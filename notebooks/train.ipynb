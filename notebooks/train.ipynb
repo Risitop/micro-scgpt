{
 "cells": [
  {
   "cell_type": "code",
   "execution_count": 1,
   "metadata": {},
   "outputs": [],
   "source": [
    "import torch\n",
    "import torch.nn.functional as F\n",
    "\n",
    "from mscgpt.data_handler import DataHandler\n",
    "from mscgpt.tokenizer import Tokenizer\n",
    "from mscgpt.gpt import MicroSCGPT, GeneExpressionRegressor"
   ]
  },
  {
   "cell_type": "code",
   "execution_count": 2,
   "metadata": {},
   "outputs": [],
   "source": [
    "DEVICE = \"cuda\" if torch.cuda.is_available() else \"cpu\"\n",
    "BATCH_SIZE = 32\n",
    "CONTEXT_SIZE = 128\n",
    "LEARNING_RATE = 1e-4\n",
    "N_HEADS = 4\n",
    "N_LAYERS = 6\n",
    "N_EMBED = 256\n",
    "N_TRAIN_STEPS = 5000\n",
    "INTERVAL_EVAL = 100\n",
    "N_EVAL = 200"
   ]
  },
  {
   "cell_type": "code",
   "execution_count": 27,
   "metadata": {},
   "outputs": [
    {
     "name": "stdout",
     "output_type": "stream",
     "text": [
      "> Tokenizer: 6395 genes successfully loaded.\n",
      "> Data Handler: Dataset successfully loaded.\n"
     ]
    }
   ],
   "source": [
    "tk = Tokenizer()\n",
    "dh = DataHandler(BATCH_SIZE, CONTEXT_SIZE, tk.pad_token, device=DEVICE)\n",
    "\n",
    "tokenized_data = tk.load_pretraining_dataset(\"tabmuris_A\")\n",
    "tokenized_data = tk.load_pretraining_dataset(\"humaneye\")\n",
    "dh.load_dataset(tokenized_data)"
   ]
  },
  {
   "cell_type": "code",
   "execution_count": 31,
   "metadata": {},
   "outputs": [],
   "source": [
    "def gene_expression_loss(x_gid, x_bin, estimate, pad_token):\n",
    "    # x_gid: [B, T]\n",
    "    # x_bin: [B, T]\n",
    "    # estimate: [B, V]\n",
    "    target = torch.zeros(estimate.shape).type(torch.long).to(DEVICE)\n",
    "    nnz = (x_gid != pad_token).nonzero().to(DEVICE)\n",
    "    target[nnz[:, 0], x_gid[nnz[:, 0], nnz[:, 1]]] = x_bin[nnz[:, 0], nnz[:, 1]]\n",
    "    return F.mse_loss(estimate.type(torch.float), target.type(torch.float))\n",
    "\n",
    "@torch.no_grad()\n",
    "def estimate_loss(model_gpt, model_gexpr, eval_iters):\n",
    "  out = {}\n",
    "  model_gpt.eval()\n",
    "  model_gexpr.eval()\n",
    "  for split in ('train', 'val'):\n",
    "    losses = torch.zeros(eval_iters)\n",
    "    for k in range(eval_iters):\n",
    "      x_gid, x_bin = dh.get_batch(split)\n",
    "      x_emb = model_gpt(x_gid, x_bin)\n",
    "      estimate = model_gexpr(x_emb)\n",
    "      losses[k] = gene_expression_loss(x_gid, x_bin, estimate, tk.pad_token).item()\n",
    "    out[split] = losses.mean()\n",
    "  model_gpt.train()\n",
    "  model_gexpr.train()\n",
    "  return out"
   ]
  },
  {
   "cell_type": "code",
   "execution_count": 29,
   "metadata": {},
   "outputs": [
    {
     "name": "stdout",
     "output_type": "stream",
     "text": [
      "> MicroSCGPT: Model initialized with 4410112 parameters.\n"
     ]
    }
   ],
   "source": [
    "gpt = MicroSCGPT(CONTEXT_SIZE, tk.bins_size, tk.vocab_size, N_HEADS, N_LAYERS, N_EMBED, N_EMBED)\n",
    "gexpr = GeneExpressionRegressor(CONTEXT_SIZE, N_EMBED, tk.n_genes)\n",
    "gpt = gpt.to(DEVICE)\n",
    "gexpr = gexpr.to(DEVICE)\n",
    "optimizer = torch.optim.AdamW(\n",
    "  list(gpt.parameters()) + list(gexpr.parameters()), \n",
    "  lr=LEARNING_RATE\n",
    ")"
   ]
  },
  {
   "cell_type": "code",
   "execution_count": 32,
   "metadata": {},
   "outputs": [
    {
     "name": "stdout",
     "output_type": "stream",
     "text": [
      "> Starting training on cuda: Radeon RX 7900 XT.\n",
      "Step 0, loss=0.2181 (train), 0.2215 (val)\n",
      "Step 100, loss=0.0797 (train), 0.0828 (val)\n",
      "Step 200, loss=0.0624 (train), 0.0668 (val)\n",
      "Step 300, loss=0.0618 (train), 0.0644 (val)\n",
      "Step 400, loss=0.0611 (train), 0.0626 (val)\n",
      "Step 500, loss=0.0605 (train), 0.0648 (val)\n",
      "Step 600, loss=0.0610 (train), 0.0631 (val)\n",
      "Step 700, loss=0.0601 (train), 0.0641 (val)\n",
      "Step 800, loss=0.0604 (train), 0.0638 (val)\n",
      "Step 900, loss=0.0605 (train), 0.0649 (val)\n",
      "Step 1000, loss=0.0611 (train), 0.0637 (val)\n",
      "Step 1100, loss=0.0602 (train), 0.0636 (val)\n",
      "Step 1200, loss=0.0611 (train), 0.0632 (val)\n",
      "Step 1300, loss=0.0603 (train), 0.0635 (val)\n",
      "Step 1400, loss=0.0598 (train), 0.0646 (val)\n",
      "Step 1500, loss=0.0600 (train), 0.0638 (val)\n",
      "Step 1600, loss=0.0609 (train), 0.0646 (val)\n",
      "Step 1700, loss=0.0597 (train), 0.0636 (val)\n",
      "Step 1800, loss=0.0610 (train), 0.0639 (val)\n",
      "Step 1900, loss=0.0607 (train), 0.0633 (val)\n",
      "Step 2000, loss=0.0611 (train), 0.0645 (val)\n",
      "Step 2100, loss=0.0609 (train), 0.0653 (val)\n",
      "Step 2200, loss=0.0605 (train), 0.0649 (val)\n",
      "Step 2300, loss=0.0592 (train), 0.0646 (val)\n",
      "Step 2400, loss=0.0615 (train), 0.0643 (val)\n",
      "Step 2500, loss=0.0598 (train), 0.0630 (val)\n",
      "Step 2600, loss=0.0600 (train), 0.0630 (val)\n",
      "Step 2700, loss=0.0603 (train), 0.0639 (val)\n",
      "Step 2800, loss=0.0599 (train), 0.0627 (val)\n",
      "Step 2900, loss=0.0601 (train), 0.0635 (val)\n",
      "Step 3000, loss=0.0592 (train), 0.0638 (val)\n",
      "Step 3100, loss=0.0592 (train), 0.0629 (val)\n",
      "Step 3200, loss=0.0582 (train), 0.0634 (val)\n",
      "Step 3300, loss=0.0586 (train), 0.0628 (val)\n",
      "Step 3400, loss=0.0576 (train), 0.0621 (val)\n",
      "Step 3500, loss=0.0591 (train), 0.0625 (val)\n",
      "Step 3600, loss=0.0591 (train), 0.0614 (val)\n",
      "Step 3700, loss=0.0581 (train), 0.0633 (val)\n",
      "Step 3800, loss=0.0582 (train), 0.0624 (val)\n",
      "Step 3900, loss=0.0589 (train), 0.0618 (val)\n",
      "Step 4000, loss=0.0586 (train), 0.0611 (val)\n",
      "Step 4100, loss=0.0590 (train), 0.0617 (val)\n",
      "Step 4200, loss=0.0583 (train), 0.0619 (val)\n",
      "Step 4300, loss=0.0581 (train), 0.0622 (val)\n",
      "Step 4400, loss=0.0586 (train), 0.0620 (val)\n",
      "Step 4500, loss=0.0581 (train), 0.0614 (val)\n",
      "Step 4600, loss=0.0576 (train), 0.0618 (val)\n",
      "Step 4700, loss=0.0580 (train), 0.0620 (val)\n",
      "Step 4800, loss=0.0571 (train), 0.0618 (val)\n",
      "Step 4900, loss=0.0578 (train), 0.0613 (val)\n",
      "Step 4999, loss=0.0568 (train), 0.0618 (val)\n"
     ]
    }
   ],
   "source": [
    "print(f'> Starting training on {DEVICE}: {torch.cuda.get_device_name(0)}.')\n",
    "\n",
    "rec_loss = []\n",
    "for step in range(N_TRAIN_STEPS):\n",
    "  if not (step % INTERVAL_EVAL) or step == N_TRAIN_STEPS - 1:\n",
    "    loss = estimate_loss(gpt, gexpr, N_EVAL)\n",
    "    print(f'Step {step}, loss={loss[\"train\"]:.4f} (train), {loss[\"val\"]:.4f} (val)')\n",
    "  x_gid, x_bin = dh.get_batch(\"train\")\n",
    "  x_emb = gpt(x_gid, x_bin)\n",
    "  estimate = gexpr(x_emb)\n",
    "  loss = gene_expression_loss(x_gid, x_bin, estimate, tk.pad_token)\n",
    "  rec_loss.append(float(loss.detach()))\n",
    "  optimizer.zero_grad(set_to_none=True)\n",
    "  loss.backward()\n",
    "  optimizer.step()"
   ]
  },
  {
   "cell_type": "code",
   "execution_count": 33,
   "metadata": {},
   "outputs": [
    {
     "data": {
      "text/plain": [
       "[<matplotlib.lines.Line2D at 0x7eda4651c520>]"
      ]
     },
     "execution_count": 33,
     "metadata": {},
     "output_type": "execute_result"
    },
    {
     "data": {
      "image/png": "[encoded data removed]",
      "text/plain": [
       "<Figure size 640x480 with 1 Axes>"
      ]
     },
     "metadata": {},
     "output_type": "display_data"
    }
   ],
   "source": [
    "import matplotlib.pyplot as plt\n",
    "\n",
    "plt.plot(torch.tensor(rec_loss).view(-1, 100).mean(axis=-1))"
   ]
  },
  {
   "cell_type": "code",
   "execution_count": null,
   "metadata": {},
   "outputs": [],
   "source": [
    "# Our model can overfit the data :) Next, we'll add some training masks."
   ]
  }
 ],
 "metadata": {
  "kernelspec": {
   "display_name": "micro-scgpt-GeTqRLZN",
   "language": "python",
   "name": "python3"
  },
  "language_info": {
   "codemirror_mode": {
    "name": "ipython",
    "version": 3
   },
   "file_extension": ".py",
   "mimetype": "text/x-python",
   "name": "python",
   "nbconvert_exporter": "python",
   "pygments_lexer": "ipython3",
   "version": "3.10.12"
  }
 },
 "nbformat": 4,
 "nbformat_minor": 2
}
