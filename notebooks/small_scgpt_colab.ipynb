{
 "cells": [
  {
   "cell_type": "markdown",
   "id": "Ys11cOS1iZ7t",
   "metadata": {
    "id": "Ys11cOS1iZ7t"
   },
   "source": [
    "# Mini scGPT - A (small) foundation model for single-cell mouse data\n",
    "\n",
    "Inspired from https://www.nature.com/articles/s41592-024-02201-0 (Cui et al. 2024)"
   ]
  },
  {
   "cell_type": "code",
   "execution_count": 3,
   "id": "2fb36536-94e6-4b53-959c-f78a4819a217",
   "metadata": {
    "id": "2fb36536-94e6-4b53-959c-f78a4819a217"
   },
   "outputs": [],
   "source": [
    "import numpy as np\n",
    "import scanpy as sc\n",
    "\n",
    "import os\n",
    "import sys\n",
    "\n",
    "from typing import Tuple"
   ]
  },
  {
   "cell_type": "code",
   "execution_count": 4,
   "id": "2c0a4532-29ba-47f4-bbb5-b671af357de5",
   "metadata": {
    "colab": {
     "base_uri": "https://localhost:8080/"
    },
    "id": "2c0a4532-29ba-47f4-bbb5-b671af357de5",
    "outputId": "06d14d34-4786-4ee7-e26a-5d477685a7d9"
   },
   "outputs": [],
   "source": [
    "DPATH = '/home/risitop/Code/small-scgpt/data'\n",
    "sys.path.append(DPATH)\n",
    "\n",
    "# Data loading\n",
    "fname = \"tabmuris_A.h5ad\"\n",
    "adata = sc.read_h5ad(os.path.join(DPATH, fname))\n",
    "adata = adata[np.logical_not(adata.obs['Cell type'].isna())].copy()\n",
    "adata.var_names = adata.var_names.str.upper()"
   ]
  },
  {
   "cell_type": "code",
   "execution_count": 5,
   "id": "RuN7Nn_otwGm",
   "metadata": {
    "id": "RuN7Nn_otwGm"
   },
   "outputs": [
    {
     "name": "stderr",
     "output_type": "stream",
     "text": [
      "/home/risitop/.local/share/virtualenvs/small-scgpt-B3Bl7c42/lib/python3.10/site-packages/scanpy/preprocessing/_highly_variable_genes.py:226: FutureWarning: The default of observed=False is deprecated and will be changed to True in a future version of pandas. Pass observed=False to retain current behavior or observed=True to adopt the future default and silence this warning.\n",
      "  disp_grouped = df.groupby(\"mean_bin\")[\"dispersions\"]\n"
     ]
    }
   ],
   "source": [
    "# Quick data preprocessing\n",
    "sc.pp.filter_cells(adata, min_counts=10)\n",
    "sc.pp.filter_genes(adata, min_counts=10)\n",
    "sc.pp.log1p(adata)\n",
    "sc.pp.highly_variable_genes(adata, n_top_genes=500)\n",
    "adata = adata[:, adata.var['highly_variable']].copy()\n",
    "sc.pp.filter_cells(adata, min_counts=10)"
   ]
  },
  {
   "cell_type": "code",
   "execution_count": 6,
   "id": "8eab4c58-fa57-4d71-862f-45c6155863d2",
   "metadata": {
    "id": "8eab4c58-fa57-4d71-862f-45c6155863d2"
   },
   "outputs": [],
   "source": [
    "# Counts binning (see https://www.nature.com/articles/s41592-024-02201-0)\n",
    "import numpy as np\n",
    "from scipy.sparse import csr_matrix\n",
    "\n",
    "N_BINS = 10\n",
    "\n",
    "def bin_array(x: np.ndarray, nbins: int = 10) -> np.ndarray:\n",
    "    \"\"\"Applies cell-wise value-binning to a count matrix.\"\"\"\n",
    "    d = x.shape[1]\n",
    "    ix_sorted = np.argsort(x, axis=-1)\n",
    "    binned_x = np.zeros(x.shape, dtype=int)\n",
    "    for cix, gix in enumerate(ix_sorted):\n",
    "      values = x[cix]\n",
    "      values_ord = x[cix, gix]\n",
    "      nnz = (values > 0).sum()\n",
    "      nz = d - nnz\n",
    "      step = nnz / nbins\n",
    "      for i in range(nbins):\n",
    "        thr = values_ord[nz + int(step * i)]\n",
    "        binned_x[cix, gix[values >= thr]] = i + 1\n",
    "    return binned_x\n",
    "\n",
    "if not isinstance(adata.X, np.ndarray):\n",
    "  adata.X = adata.X.toarray()\n",
    "adata.obsm['X_binned'] = bin_array(adata.X, nbins=N_BINS)"
   ]
  },
  {
   "cell_type": "code",
   "execution_count": 7,
   "id": "537277c7-ffa5-4f30-ab54-aa52479305e2",
   "metadata": {
    "id": "537277c7-ffa5-4f30-ab54-aa52479305e2"
   },
   "outputs": [],
   "source": [
    "# Defining gene and cell types vocabulary\n",
    "PAD_TOKEN = '<pad>'\n",
    "special_tokens = [PAD_TOKEN]\n",
    "vocab = list(sorted([g for g in adata.var_names])) + [PAD_TOKEN] # 1 gene name = 1 token\n",
    "\n",
    "VOCAB_SIZE = len(vocab)\n",
    "\n",
    "ctypes = sorted(set(adata.obs['Cell type']))\n",
    "N_TYPES = len(ctypes)\n",
    "\n",
    "gtoi = {g: i for i, g in enumerate(vocab)}\n",
    "itog = {i: g for i, g in enumerate(vocab)}\n",
    "\n",
    "ctoi = {c: i for i, c in enumerate(ctypes)}\n",
    "itoc = {i: c for i, c in enumerate(ctypes)}"
   ]
  },
  {
   "cell_type": "code",
   "execution_count": 8,
   "id": "3693bb37-21e1-4a83-87d8-2fc5bee5dc5b",
   "metadata": {
    "id": "3693bb37-21e1-4a83-87d8-2fc5bee5dc5b"
   },
   "outputs": [],
   "source": [
    "# Data handling\n",
    "import torch\n",
    "\n",
    "DEVICE = 'cuda' if torch.cuda.is_available() else 'cpu'\n",
    "BATCH_SIZE = 32\n",
    "INPUT_SIZE = VOCAB_SIZE - 1\n",
    "\n",
    "X = adata[:, vocab[:-1]].obsm['X_binned']\n",
    "\n",
    "split = np.random.random((adata.n_obs,)) < 0.9\n",
    "train_data, val_data = X[split], X[np.logical_not(split)]\n",
    "train_targets, val_targets = adata[:, vocab[:-1]].X[split], adata[:, vocab[:-1]].X[np.logical_not(split)]\n",
    "train_ctype, val_ctype = [ctoi[c] for c in adata[split].obs['Cell type']], [ctoi[c] for c in adata[split].obs['Cell type']]\n",
    "\n",
    "train_data, val_data = torch.tensor(train_data).type(torch.long), torch.tensor(val_data).type(torch.long)\n",
    "train_targets, val_targets = torch.tensor(train_targets).type(torch.long), torch.tensor(val_targets).type(torch.long)\n",
    "train_ctype, val_ctype = torch.tensor(train_ctype).type(torch.long), torch.tensor(val_ctype).type(torch.long)\n",
    "\n",
    "def get_batch(split: str) -> Tuple[torch.tensor, torch.tensor, torch.tensor]:\n",
    "    \"\"\"\n",
    "    Helper function to produce tokenized inputs.\n",
    "\n",
    "    split: str in 'train', 'val'\n",
    "    batch_size: # of inputs\n",
    "\n",
    "    Returns $batch_size inputs (Bx2T, BxT, B).\n",
    "    1 input =\n",
    "    - [g_ids counts] with len(g_ids) = len(counts) = vocab_size\n",
    "    - [counts]\n",
    "    - cell type id\n",
    "    \"\"\"\n",
    "    counts = train_data if split == 'train' else val_data\n",
    "    targets = train_targets if split == 'train' else val_targets\n",
    "    ctypes = train_ctype if split == 'train' else val_ctype\n",
    "    cells_ix = torch.randint(counts.shape[0], (BATCH_SIZE,))\n",
    "    # Filling the input tensor with tokens and counts\n",
    "    inputs = torch.zeros((BATCH_SIZE, 2*INPUT_SIZE), dtype=torch.long)\n",
    "    inputs[:, :INPUT_SIZE] = gtoi[PAD_TOKEN]\n",
    "    for ix, cix in enumerate(cells_ix):\n",
    "      available_genes = (counts[cix] > 0).nonzero().view(-1)\n",
    "      tk_len = available_genes.shape[0]\n",
    "      inputs[ix, :tk_len] = available_genes\n",
    "      inputs[ix, INPUT_SIZE:INPUT_SIZE+tk_len] = counts[cix, available_genes]\n",
    "    # scramble inputs\n",
    "    scrambler = torch.randperm(INPUT_SIZE)\n",
    "    inputs[:, :INPUT_SIZE] = inputs[:, scrambler]\n",
    "    inputs[:, INPUT_SIZE:] = inputs[:, INPUT_SIZE + scrambler]\n",
    "    # prepare target values\n",
    "    targets = targets[cells_ix]\n",
    "    ctypes = ctypes[cells_ix]\n",
    "    return inputs.to(DEVICE), targets.to(DEVICE), ctypes.to(DEVICE)\n",
    "\n",
    "@torch.no_grad()\n",
    "def estimate_loss(model, eval_iters):\n",
    "  out = {}\n",
    "  model.eval()\n",
    "  for split in ('train', 'val'):\n",
    "    losses = torch.zeros(eval_iters)\n",
    "    for k in range(eval_iters):\n",
    "      X, Y, _ = get_batch(split)\n",
    "      logits, loss = model(X, Y)\n",
    "      losses[k] = loss.item()\n",
    "    out[split] = losses.mean()\n",
    "  model.train()\n",
    "  return out"
   ]
  },
  {
   "cell_type": "code",
   "execution_count": 9,
   "id": "2271bc8e-69f8-4b73-8be6-c37daabdbe1f",
   "metadata": {
    "id": "2271bc8e-69f8-4b73-8be6-c37daabdbe1f"
   },
   "outputs": [],
   "source": [
    "# Single-cell GPT\n",
    "import torch.nn as nn\n",
    "from torch.nn import functional as F\n",
    "\n",
    "\n",
    "class Head(nn.Module):\n",
    "  \"\"\"\n",
    "  Single attention head (K, Q, V)\n",
    "  \"\"\"\n",
    "  def __init__(self, head_size, n_embed):\n",
    "    super().__init__()\n",
    "    self.key = nn.Linear(n_embed, head_size, bias=False)\n",
    "    self.query = nn.Linear(n_embed, head_size, bias=False)\n",
    "    self.value = nn.Linear(n_embed, head_size, bias=False)\n",
    "    self.dropout = nn.Dropout(dropout)\n",
    "\n",
    "  def forward(self, x):\n",
    "    B, T, C = x.shape\n",
    "    k = self.key(x) # B, T, head_sizemedian\n",
    "    q = self.query(x) # B, T, head_size\n",
    "    wei = q @ k.transpose(-1, -2) * C**-0.5\n",
    "    wei = self.dropout(F.softmax(wei, dim=-1))\n",
    "    v = self.value(x) # B, T, head_size\n",
    "    return wei @ v # B, T, head_size\n",
    "\n",
    "\n",
    "class MultiHead(nn.Module):\n",
    "  \"\"\"\n",
    "  A multi-head module\n",
    "  n x Head -> Linear\n",
    "  \"\"\"\n",
    "  def __init__(self, n_heads, head_size, n_embed):\n",
    "    super().__init__()\n",
    "    self.heads = nn.ModuleList([Head(head_size, n_embed) for _ in range(n_heads)])\n",
    "    self.projection = nn.Linear(n_embed, n_embed)\n",
    "    self.dropout = nn.Dropout(0.2)\n",
    "\n",
    "  def forward(self, x):\n",
    "    out = torch.cat([h(x) for h in self.heads], dim=-1)\n",
    "    return self.dropout(self.projection(out))\n",
    "\n",
    "\n",
    "class Block(nn.Module):\n",
    "  \"\"\"\n",
    "  A transformer block\n",
    "  LNorm -> Attention -> LNorm -> FFW\n",
    "  \"\"\"\n",
    "  def __init__(self,  n_heads, head_size, n_embed):\n",
    "    super().__init__()\n",
    "    self.sa_heads = MultiHead(n_heads, n_embed // n_heads, n_embed)\n",
    "    self.ffwd = nn.Sequential(\n",
    "        nn.Linear(n_embed, 4 * n_embed),\n",
    "        nn.ReLU(),\n",
    "        nn.Linear(4 * n_embed, n_embed),\n",
    "        nn.Dropout(dropout)\n",
    "    )\n",
    "    self.ln1 = nn.LayerNorm(n_embed)\n",
    "    self.ln2 = nn.LayerNorm(n_embed)\n",
    "\n",
    "  def forward(self, x):\n",
    "    x = x + self.sa_heads(self.ln1(x))\n",
    "    x = x + self.ffwd(self.ln2(x))\n",
    "    return x\n",
    "\n",
    "\n",
    "class MLP(nn.Module):\n",
    "  \"\"\"\n",
    "  Simple MLP for gene bins embedding.\n",
    "  Input: [x1 ... xM] (binned gene counts)\n",
    "  Output: [emb(x1) ... emb(xM)] where emb(xi) \\in R^C\n",
    "  \"\"\"\n",
    "  def __init__(self, input_dim, output_dim, hidden_dim, n_hidden):\n",
    "    super().__init__()\n",
    "    self.ln_in = nn.Sequential(\n",
    "        nn.Linear(input_dim, hidden_dim),\n",
    "        nn.ReLU()\n",
    "    )\n",
    "    self.ln_h = nn.Sequential(*[\n",
    "        nn.Linear(hidden_dim, hidden_dim) if not i%2\n",
    "        else nn.ReLU()\n",
    "        for i in range(2*n_hidden)\n",
    "    ])\n",
    "    self.ln_out = nn.Sequential(\n",
    "        nn.Linear(hidden_dim, output_dim),\n",
    "        nn.ReLU()\n",
    "    )\n",
    "\n",
    "  def forward(self, x):\n",
    "    x = F.one_hot(x, num_classes=N_BINS+1).type(torch.float)\n",
    "    return self.ln_out(self.ln_h(self.ln_in(x)))\n",
    "\n",
    "\n",
    "class SmallSCGPT(nn.Module):\n",
    "  \"\"\"\n",
    "  Micro GPT for single-cell RNA-seq data.\n",
    "  \"\"\"\n",
    "  def __init__(self, n_heads, n_embed, n_layers):\n",
    "    super().__init__()\n",
    "    self.enc_g = nn.Embedding(VOCAB_SIZE, n_embed) # Gene ids\n",
    "    self.enc_x = MLP(N_BINS + 1, n_embed, 2*n_embed, 1) # Gene counts\n",
    "    self.blocks = nn.Sequential(\n",
    "        *[Block(n_heads, n_embed, n_embed)\n",
    "        for _ in range(n_layers)]\n",
    "    )\n",
    "    self.ln_f = nn.LayerNorm(n_embed)\n",
    "    self.lm_head = nn.Linear(n_embed * INPUT_SIZE, INPUT_SIZE)\n",
    "\n",
    "  def forward(self, x, targets = None):\n",
    "    ht = self.enc_g(x[:, :INPUT_SIZE])  # Emb gene tokens\n",
    "    hg = self.enc_x(x[:, INPUT_SIZE:])  # Emb binned counts\n",
    "    hi = ht + hg  # Input tokens B, T, C\n",
    "    ho = self.blocks(hi)  # Transformer step\n",
    "    ho = self.ln_f(ho).view(-1, n_embed * INPUT_SIZE)\n",
    "    cpred = F.relu(self.lm_head(ho))\n",
    "    # Computing loss\n",
    "    loss = None\n",
    "    if targets is not None:\n",
    "      loss = F.mse_loss(cpred.to(torch.float), targets.to(torch.float))\n",
    "    return cpred, loss"
   ]
  },
  {
   "cell_type": "code",
   "execution_count": 25,
   "id": "806nuqxYA-Lh",
   "metadata": {
    "colab": {
     "base_uri": "https://localhost:8080/"
    },
    "id": "806nuqxYA-Lh",
    "outputId": "d2750762-a212-4842-a493-cbe559d1ba80"
   },
   "outputs": [
    {
     "name": "stdout",
     "output_type": "stream",
     "text": [
      "> Starting training on cuda: Radeon RX 7900 XT.\n",
      "> micro-scGPT initialized with 70.84M parameters.\n",
      "Step 0, loss=0.8069 (train), 0.7695 (val)\n",
      "Step 100, loss=0.6707 (train), 0.6858 (val)\n",
      "Step 200, loss=0.6583 (train), 0.6815 (val)\n",
      "Step 300, loss=0.6747 (train), 0.6893 (val)\n",
      "Step 400, loss=0.6747 (train), 0.6611 (val)\n",
      "Step 500, loss=0.6627 (train), 0.6824 (val)\n",
      "Step 600, loss=0.6697 (train), 0.6826 (val)\n",
      "Step 700, loss=0.6987 (train), 0.6836 (val)\n",
      "Step 800, loss=0.6637 (train), 0.6673 (val)\n",
      "Step 900, loss=0.6974 (train), 0.6489 (val)\n",
      "Step 999, loss=0.6770 (train), 0.6790 (val)\n"
     ]
    }
   ],
   "source": [
    "n_eval = 200\n",
    "interval_eval = 100\n",
    "n_train_steps = 1000\n",
    "n_embed = 256\n",
    "n_heads = 4\n",
    "n_layers = 8\n",
    "lr = 1e-4\n",
    "dropout = 0.2\n",
    "\n",
    "print(f'> Starting training on {DEVICE}: {torch.cuda.get_device_name(0)}.')\n",
    "\n",
    "m = SmallSCGPT(n_heads, n_embed, n_layers)\n",
    "m = m.to(DEVICE)\n",
    "optimizer = torch.optim.AdamW(m.parameters(), lr=lr)\n",
    "\n",
    "pytorch_total_params = sum(p.numel() for p in m.parameters())\n",
    "print(f'> micro-scGPT initialized with {pytorch_total_params/1e6:.2f}M parameters.')\n",
    "\n",
    "rec_loss = []\n",
    "for step in range(n_train_steps):\n",
    "  if not (step%interval_eval) or step == n_train_steps - 1:\n",
    "    loss = estimate_loss(m, n_eval)\n",
    "    print(f'Step {step}, loss={loss[\"train\"]:.4f} (train), {loss[\"val\"]:.4f} (val)')\n",
    "  xb, yb, _ = get_batch('train')\n",
    "  _, loss = m(xb, yb)\n",
    "  rec_loss.append(float(loss))\n",
    "  optimizer.zero_grad(set_to_none=True)\n",
    "  loss.backward()\n",
    "  optimizer.step()"
   ]
  },
  {
   "cell_type": "code",
   "execution_count": 19,
   "id": "b565864b-8d28-4026-b327-5a8e16a635d0",
   "metadata": {},
   "outputs": [
    {
     "name": "stderr",
     "output_type": "stream",
     "text": [
      "/tmp/ipykernel_5649/1650333508.py:1: UserWarning: To copy construct from a tensor, it is recommended to use sourceTensor.clone().detach() or sourceTensor.clone().detach().requires_grad_(True), rather than torch.tensor(sourceTensor).\n",
      "  rec_loss = torch.tensor(rec_loss).view(-1, 10)\n"
     ]
    }
   ],
   "source": [
    "rec_loss = torch.tensor(rec_loss).view(-1, 10)"
   ]
  },
  {
   "cell_type": "code",
   "execution_count": 20,
   "id": "4ef372d1-6399-46c8-85f2-81e85f2323bc",
   "metadata": {},
   "outputs": [
    {
     "data": {
      "text/plain": [
       "torch.Size([100, 10])"
      ]
     },
     "execution_count": 20,
     "metadata": {},
     "output_type": "execute_result"
    }
   ],
   "source": [
    "rec_loss.shape"
   ]
  },
  {
   "cell_type": "code",
   "execution_count": 23,
   "id": "Rm3Xsvk7Tx_p",
   "metadata": {
    "colab": {
     "base_uri": "https://localhost:8080/",
     "height": 469
    },
    "id": "Rm3Xsvk7Tx_p",
    "outputId": "50da2d57-5a94-4caa-c734-d15f65b8a5b6"
   },
   "outputs": [
    {
     "data": {
      "text/plain": [
       "Text(0.5, 1.0, 'Training loss')"
      ]
     },
     "execution_count": 23,
     "metadata": {},
     "output_type": "execute_result"
    },
    {
     "data": {
      "image/png": "[encoded data removed]",
      "text/plain": [
       "<Figure size 640x480 with 1 Axes>"
      ]
     },
     "metadata": {},
     "output_type": "display_data"
    }
   ],
   "source": [
    "import matplotlib.pyplot as plt\n",
    "\n",
    "plt.plot(np.arange(rec_loss.shape[0]), rec_loss.mean(axis=-1))\n",
    "plt.title('Training loss')"
   ]
  },
  {
   "cell_type": "code",
   "execution_count": null,
   "id": "GYb0QI_Ibw1o",
   "metadata": {
    "id": "GYb0QI_Ibw1o"
   },
   "outputs": [],
   "source": []
  }
 ],
 "metadata": {
  "accelerator": "GPU",
  "colab": {
   "gpuType": "T4",
   "provenance": []
  },
  "kernelspec": {
   "display_name": "Python 3 (ipykernel)",
   "language": "python",
   "name": "python3"
  },
  "language_info": {
   "codemirror_mode": {
    "name": "ipython",
    "version": 3
   },
   "file_extension": ".py",
   "mimetype": "text/x-python",
   "name": "python",
   "nbconvert_exporter": "python",
   "pygments_lexer": "ipython3",
   "version": "3.10.12"
  }
 },
 "nbformat": 4,
 "nbformat_minor": 5
}
